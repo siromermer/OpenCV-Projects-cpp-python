{
 "cells": [
  {
   "cell_type": "markdown",
   "id": "83fd703b",
   "metadata": {},
   "source": [
    "<br><br>"
   ]
  },
  {
   "cell_type": "markdown",
   "id": "354be700",
   "metadata": {},
   "source": [
    "### Create label list "
   ]
  },
  {
   "cell_type": "code",
   "execution_count": 14,
   "id": "70d8c33d",
   "metadata": {},
   "outputs": [
    {
     "data": {
      "text/plain": [
       "['Black Sea Sprat',\n",
       " 'Gilt-Head Bream',\n",
       " 'Hourse Mackerel',\n",
       " 'Red Mullet',\n",
       " 'Red Sea Bream',\n",
       " 'Sea Bass',\n",
       " 'Shrimp',\n",
       " 'Striped Red Mullet',\n",
       " 'Trout']"
      ]
     },
     "execution_count": 14,
     "metadata": {},
     "output_type": "execute_result"
    }
   ],
   "source": [
    "import os\n",
    "label_list = []\n",
    "# print all the folders in specific directory\n",
    "def print_folders_in_directory(directory):\n",
    "    for item in os.listdir(directory):\n",
    "        label_list.append(item)\n",
    "\n",
    "print_folders_in_directory(r\"C:\\Users\\sirom\\Desktop\\youtube\\pipeline-pytorch-imge-classification\\archive\\Fish_Dataset\\Fish_Dataset\")\n",
    "label_list"
   ]
  },
  {
   "cell_type": "markdown",
   "id": "86b1073e",
   "metadata": {},
   "source": [
    "<br><br>\n",
    "\n",
    "### Split dataset to train and valid folders --> %70 for training, %30 for validation"
   ]
  },
  {
   "cell_type": "code",
   "execution_count": null,
   "id": "8ec804a0",
   "metadata": {},
   "outputs": [],
   "source": [
    "import os\n",
    "import shutil\n",
    "import random\n",
    "\n",
    "# original path \n",
    "original_dataset_dir = r\"archive\\Fish_Dataset\\Fish_Dataset\"\n",
    "\n",
    "# new paths for training and validation sets\n",
    "base_dir = \"fish_dataset\"\n",
    "os.makedirs(base_dir, exist_ok=True)\n",
    "\n",
    "train_dir = os.path.join(base_dir, 'train')\n",
    "os.makedirs(train_dir, exist_ok=True)\n",
    "\n",
    "validation_dir = os.path.join(base_dir, 'validation')\n",
    "os.makedirs(validation_dir, exist_ok=True)\n",
    "\n",
    "# classes you defined earlier\n",
    "classes = label_list  \n",
    "\n",
    "for cls in classes:\n",
    "    cls_dir = os.path.join(original_dataset_dir, cls)\n",
    "\n",
    "    # if inside cls_dir there is another folder with the same name, dive into it\n",
    "    inner_dir = os.path.join(cls_dir, cls)\n",
    "    if os.path.isdir(inner_dir):\n",
    "        cls_dir = inner_dir  \n",
    "\n",
    "    # now list files (images only)\n",
    "    files = [f for f in os.listdir(cls_dir) if os.path.isfile(os.path.join(cls_dir, f))]\n",
    "    random.shuffle(files)\n",
    "\n",
    "    # split\n",
    "    split_point = int(0.7 * len(files)) # 70% for training, 30% for validation\n",
    "    train_files = files[:split_point]\n",
    "    validation_files = files[split_point:]\n",
    "\n",
    "    # make subdirs\n",
    "    train_cls_dir = os.path.join(train_dir, cls)\n",
    "    os.makedirs(train_cls_dir, exist_ok=True)\n",
    "\n",
    "    validation_cls_dir = os.path.join(validation_dir, cls)\n",
    "    os.makedirs(validation_cls_dir, exist_ok=True)\n",
    "\n",
    "    # copy\n",
    "    for file in train_files:\n",
    "        shutil.copyfile(os.path.join(cls_dir, file), os.path.join(train_cls_dir, file))\n",
    "\n",
    "    for file in validation_files:\n",
    "        shutil.copyfile(os.path.join(cls_dir, file), os.path.join(validation_cls_dir, file))\n"
   ]
  }
 ],
 "metadata": {
  "kernelspec": {
   "display_name": "torch129",
   "language": "python",
   "name": "python3"
  },
  "language_info": {
   "codemirror_mode": {
    "name": "ipython",
    "version": 3
   },
   "file_extension": ".py",
   "mimetype": "text/x-python",
   "name": "python",
   "nbconvert_exporter": "python",
   "pygments_lexer": "ipython3",
   "version": "3.10.18"
  }
 },
 "nbformat": 4,
 "nbformat_minor": 5
}
